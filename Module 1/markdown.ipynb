{
 "cells": [
  {
   "cell_type": "markdown",
   "metadata": {},
   "source": [
    "# Markdown and Jupyter Basics\n",
    "\n",
    "Jupyter Notebook is an open-source web application that allows you to create and share documents that contain live code, equations, visualizations, and narrative text. Notebook & Markdown is widely used for creating documentation and reports."
   ]
  },
  {
   "cell_type": "markdown",
   "metadata": {},
   "source": [
    "## Keyboard Shortcuts\n",
    "- **Shift + Enter**: Execute the current cell and move to the next one.\n",
    "\n",
    "- **Ctrl + Enter**: Execute the current cell and remain in the same cell.\n",
    "\n",
    "- **Esc**: Enter command mode, allowing for navigation and execution commands.\n",
    "\n",
    "- **Enter**: Enter edit mode for the currently selected cell.\n",
    "\n",
    "- **A (in command mode)**: Insert a new cell above the current cell.\n",
    "\n",
    "- **B (in command mode)**: Insert a new cell below the current cell.\n",
    "\n",
    "- **M (in command mode)**: Change the current cell to a Markdown cell.\n",
    "\n",
    "- **Y (in command mode)**: Change the current cell to a Code cell."
   ]
  },
  {
   "cell_type": "markdown",
   "metadata": {},
   "source": [
    "## Basic Markdown Syntax"
   ]
  },
  {
   "cell_type": "markdown",
   "metadata": {},
   "source": [
    "### Headings"
   ]
  },
  {
   "cell_type": "markdown",
   "metadata": {},
   "source": [
    "# Header 1, Title\n",
    "## Header 2, Major Headings\n",
    "### Header 3, Subheadings\n",
    "#### Header 4, 4th Level Subheadings\n",
    "##### Header 5, 5th Level Subheadings\n",
    "###### Header 6, 6th Level Subheadings"
   ]
  },
  {
   "cell_type": "markdown",
   "metadata": {},
   "source": [
    "### Plain Text"
   ]
  },
  {
   "cell_type": "markdown",
   "metadata": {},
   "source": [
    "This is a sample of a plain text. You use plain text combined with simple symbols to add formatting, which makes the text both readable in its raw form and easily convertible to other formats."
   ]
  },
  {
   "cell_type": "markdown",
   "metadata": {},
   "source": [
    "### Text Formatting"
   ]
  },
  {
   "cell_type": "markdown",
   "metadata": {},
   "source": [
    "<!-- Bold: ** -->\n",
    "This is some **bold text**.\n",
    "\n",
    "<!-- Italic 1: * -->\n",
    "This is some *italicized* text.\n",
    "\n",
    "<!-- Italic 2: _ (so italic can be used with bold)-->\n",
    "This is another _italicized text_.\n",
    "\n",
    "<!-- Strikethrough: ~~ -->\n",
    "This is some ~~invalid text~~.\n",
    "\n",
    "<!-- Superscript: <sup></sup> and Subscript: <sub></sub>  -->\n",
    "The chemical formula of water is H<sub>2</sub>O.\n",
    "\n",
    "The expression is x<sup>2</sup>."
   ]
  },
  {
   "cell_type": "markdown",
   "metadata": {},
   "source": [
    "<!-- Bold: ** -->\n",
    "This is some **bold text**.\n",
    "\n",
    "<!-- Italic 1: * -->\n",
    "This is some *italicized* text.\n",
    "\n",
    "<!-- Italic 2: _ (so italic can be used with bold)-->\n",
    "This is another _italicized text_.\n",
    "\n",
    "<!-- Strikethrough: ~~ -->\n",
    "This is some ~~invalid text~~.\n",
    "\n",
    "<!-- Superscript: <sup></sup> and Subscript: <sub></sub>  -->\n",
    "The chemical formula of water is H<sub>2</sub>O.\n",
    "\n",
    "The expression is x<sup>2</sup>.\n",
    "\n"
   ]
  },
  {
   "cell_type": "markdown",
   "metadata": {},
   "source": [
    "### Inline Code, Blockquotes, Horizontal Rule"
   ]
  },
  {
   "cell_type": "markdown",
   "metadata": {},
   "source": [
    "<!-- Inline Code -->\n",
    "`print(\"Hello World!\")` this is some random text.\n",
    "\n",
    "<!-- Blockquotes -->\n",
    "> This is a blockquote\n",
    "\n",
    "<!-- Horizontal Rule -->\n",
    "---\n",
    "***\n",
    "___"
   ]
  },
  {
   "cell_type": "markdown",
   "metadata": {},
   "source": [
    "<!-- Inline Code -->\n",
    "`print(\"Hello World!\")` this is some random text.\n",
    "\n",
    "<!-- Blockquotes -->\n",
    "> This is a blockquote\n",
    "\n",
    "<!-- Horizontal Rule -->\n",
    "---\n",
    "***\n",
    "___\n",
    "\n",
    "\n"
   ]
  },
  {
   "cell_type": "markdown",
   "metadata": {},
   "source": [
    "## Link and Images"
   ]
  },
  {
   "cell_type": "markdown",
   "metadata": {},
   "source": [
    "<!-- Links -->\n",
    "[Google](https://www.google.com)\n",
    "\n",
    "<!-- Images -->\n",
    "<!-- ![Alt Text](image link)  -->\n",
    "![Jupyter Logo](https://cdn.icon-icons.com/icons2/2699/PNG/512/jupyter_logo_icon_169453.png)\n",
    "\n",
    "![An Image about Data Analytics](img.png)"
   ]
  },
  {
   "cell_type": "markdown",
   "metadata": {},
   "source": [
    "<!-- Links -->\n",
    "[Google](https://www.google.com)\n",
    "\n",
    "<!-- Images -->\n",
    "<!-- ![Alt Text](image link)  -->\n",
    "![Jupyter Logo](https://cdn.icon-icons.com/icons2/2699/PNG/512/jupyter_logo_icon_169453.png)\n",
    "\n",
    "![An Image about Data Analytics](img.png)"
   ]
  },
  {
   "cell_type": "markdown",
   "metadata": {},
   "source": [
    "## Markdown List"
   ]
  },
  {
   "cell_type": "markdown",
   "metadata": {},
   "source": [
    "### Unordered List\n",
    "- Item 1\n",
    "- Item 2\n",
    "- Item 3"
   ]
  },
  {
   "cell_type": "markdown",
   "metadata": {},
   "source": [
    "### Ordered List\n",
    "1. Item 1\n",
    "2. Item 2\n",
    "3. Item 3"
   ]
  },
  {
   "cell_type": "markdown",
   "metadata": {
    "vscode": {
     "languageId": "plaintext"
    }
   },
   "source": [
    "### Tables"
   ]
  },
  {
   "cell_type": "markdown",
   "metadata": {},
   "source": [
    "| Header 1 | Header 2 | Header 3 |\n",
    "|-|-|-|\n",
    "| Row 1, Col 1 | Row 1, Col 2 | Row 1, Col 3 |\n",
    "| Row 2, Col 1 | Row 2, Col 2 | Row 2, Col 3 |\n",
    "| Row 3, Col 1 | Row 3, Col 2 | Row 3, Col 3 |\n",
    "| Row 4, Col 1 | Row 4, Col 2 | Row 4, Col 3 |"
   ]
  },
  {
   "cell_type": "markdown",
   "metadata": {},
   "source": [
    "| Name | Age | Email Address |\n",
    "|-|-|-|\n",
    "| John | 35 | j@test.com |\n",
    "| Bob | 22 | b@test.com |\n",
    "| Alice | 42 | a@test.com |"
   ]
  },
  {
   "cell_type": "markdown",
   "metadata": {},
   "source": []
  }
 ],
 "metadata": {
  "language_info": {
   "name": "python"
  }
 },
 "nbformat": 4,
 "nbformat_minor": 2
}
